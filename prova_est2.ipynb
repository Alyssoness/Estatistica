{
 "cells": [
  {
   "cell_type": "markdown",
   "metadata": {},
   "source": [
    "# Prova 2 - Estatística"
   ]
  },
  {
   "cell_type": "code",
   "execution_count": 70,
   "metadata": {},
   "outputs": [],
   "source": [
    "import numpy as np\n",
    "import pandas as pd\n",
    "import matplotlib.pyplot as plt\n",
    "import scipy.stats as stats\n",
    "import scipy.special as scisp\n",
    "import seaborn as sns\n",
    "import math\n",
    "#!pip install prettytable\n",
    "from prettytable import PrettyTable\n",
    "from sklearn.utils import resample\n",
    "%matplotlib inline\n"
   ]
  },
  {
   "cell_type": "markdown",
   "metadata": {},
   "source": [
    "## Questão 1.3"
   ]
  },
  {
   "cell_type": "code",
   "execution_count": 2,
   "metadata": {},
   "outputs": [
    {
     "data": {
      "text/plain": [
       "(array([0.00000000e+00, 8.52413094e-13, 3.98325402e-10, 1.39627275e-08,\n",
       "        1.69400380e-07, 1.14861861e-06, 5.38821972e-06, 1.95957666e-05,\n",
       "        5.91335143e-05, 1.54699346e-04, 3.61506363e-04, 7.70863686e-04,\n",
       "        1.52373213e-03, 2.82550972e-03, 4.96102874e-03, 8.30854591e-03,\n",
       "        1.33513991e-02, 2.06859983e-02, 3.10249134e-02, 4.51940164e-02,\n",
       "        6.41229073e-02, 8.88281946e-02, 1.20389584e-01, 1.59919127e-01,\n",
       "        2.08524394e-01, 2.67266674e-01, 3.37115693e-01, 4.18902526e-01,\n",
       "        5.13272635e-01, 6.20641026e-01, 7.41151537e-01, 8.74642189e-01,\n",
       "        1.02061837e+00, 1.17823534e+00, 1.34629128e+00, 1.52323170e+00,\n",
       "        1.70716553e+00, 1.89589300e+00, 2.08694467e+00, 2.27763086e+00,\n",
       "        2.46509997e+00, 2.64640419e+00, 2.81857059e+00, 2.97867529e+00,\n",
       "        3.12391848e+00, 3.25169790e+00, 3.35967822e+00, 3.44585429e+00,\n",
       "        3.50860590e+00, 3.54674256e+00, 3.55953640e+00, 3.54674256e+00,\n",
       "        3.50860590e+00, 3.44585429e+00, 3.35967822e+00, 3.25169790e+00,\n",
       "        3.12391848e+00, 2.97867529e+00, 2.81857059e+00, 2.64640419e+00,\n",
       "        2.46509997e+00, 2.27763086e+00, 2.08694467e+00, 1.89589300e+00,\n",
       "        1.70716553e+00, 1.52323170e+00, 1.34629128e+00, 1.17823534e+00,\n",
       "        1.02061837e+00, 8.74642189e-01, 7.41151537e-01, 6.20641026e-01,\n",
       "        5.13272635e-01, 4.18902526e-01, 3.37115693e-01, 2.67266674e-01,\n",
       "        2.08524394e-01, 1.59919127e-01, 1.20389584e-01, 8.88281946e-02,\n",
       "        6.41229073e-02, 4.51940164e-02, 3.10249134e-02, 2.06859983e-02,\n",
       "        1.33513991e-02, 8.30854591e-03, 4.96102874e-03, 2.82550972e-03,\n",
       "        1.52373213e-03, 7.70863686e-04, 3.61506363e-04, 1.54699346e-04,\n",
       "        5.91335143e-05, 1.95957666e-05, 5.38821972e-06, 1.14861861e-06,\n",
       "        1.69400380e-07, 1.39627275e-08, 3.98325402e-10, 8.52413094e-13]),\n",
       " array([0.    , 0.0099, 0.0198, 0.0297, 0.0396, 0.0495, 0.0594, 0.0693,\n",
       "        0.0792, 0.0891, 0.099 , 0.1089, 0.1188, 0.1287, 0.1386, 0.1485,\n",
       "        0.1584, 0.1683, 0.1782, 0.1881, 0.198 , 0.2079, 0.2178, 0.2277,\n",
       "        0.2376, 0.2475, 0.2574, 0.2673, 0.2772, 0.2871, 0.297 , 0.3069,\n",
       "        0.3168, 0.3267, 0.3366, 0.3465, 0.3564, 0.3663, 0.3762, 0.3861,\n",
       "        0.396 , 0.4059, 0.4158, 0.4257, 0.4356, 0.4455, 0.4554, 0.4653,\n",
       "        0.4752, 0.4851, 0.495 , 0.5049, 0.5148, 0.5247, 0.5346, 0.5445,\n",
       "        0.5544, 0.5643, 0.5742, 0.5841, 0.594 , 0.6039, 0.6138, 0.6237,\n",
       "        0.6336, 0.6435, 0.6534, 0.6633, 0.6732, 0.6831, 0.693 , 0.7029,\n",
       "        0.7128, 0.7227, 0.7326, 0.7425, 0.7524, 0.7623, 0.7722, 0.7821,\n",
       "        0.792 , 0.8019, 0.8118, 0.8217, 0.8316, 0.8415, 0.8514, 0.8613,\n",
       "        0.8712, 0.8811, 0.891 , 0.9009, 0.9108, 0.9207, 0.9306, 0.9405,\n",
       "        0.9504, 0.9603, 0.9702, 0.9801, 0.99  ]),\n",
       " <a list of 100 Patch objects>)"
      ]
     },
     "execution_count": 2,
     "metadata": {},
     "output_type": "execute_result"
    },
    {
     "data": {
      "image/png": "[encoded data removed]",
      "text/plain": [
       "<Figure size 432x288 with 1 Axes>"
      ]
     },
     "metadata": {
      "needs_background": "light"
     },
     "output_type": "display_data"
    }
   ],
   "source": [
    "y = np.arange(0,1,0.01)\n",
    "py_11 = np.arange(1,1,0.01)\n",
    "py_inf = math.factorial(20)/math.factorial(10)/math.factorial(10)*(y**9)*((1-y)**9)\n",
    "#print(py_inf)\n",
    "#plt.plot(y,py_inf)\n",
    "plt.hist(y, density=1, bins=100)\n",
    "plt.hist(y, weights=py_inf, density=1, bins=100)"
   ]
  },
  {
   "cell_type": "markdown",
   "metadata": {},
   "source": [
    "Nota-se que quando p e q vão para o infinito, a distribuição tende a uma gaussiana"
   ]
  },
  {
   "cell_type": "markdown",
   "metadata": {},
   "source": [
    "## Questão 3.1"
   ]
  },
  {
   "cell_type": "code",
   "execution_count": 3,
   "metadata": {},
   "outputs": [
    {
     "name": "stdout",
     "output_type": "stream",
     "text": [
      "    conversao  10 pts ATSM  G1  G2  G3  G4  G5  G6  G7  G8  G9  temp_gas\n",
      "0       0.122          190   1   0   0   0   0   0   0   0   0       205\n",
      "1       0.223          190   1   0   0   0   0   0   0   0   0       275\n",
      "2       0.347          190   1   0   0   0   0   0   0   0   0       345\n",
      "3       0.457          190   1   0   0   0   0   0   0   0   0       407\n",
      "4       0.080          210   0   1   0   0   0   0   0   0   0       218\n",
      "5       0.131          210   0   1   0   0   0   0   0   0   0       273\n",
      "6       0.266          210   0   1   0   0   0   0   0   0   0       347\n",
      "7       0.074          217   0   0   1   0   0   0   0   0   0       212\n",
      "8       0.182          217   0   0   1   0   0   0   0   0   0       272\n",
      "9       0.304          217   0   0   1   0   0   0   0   0   0       340\n",
      "10      0.069          220   0   0   0   1   0   0   0   0   0       235\n",
      "11      0.152          220   0   0   0   1   0   0   0   0   0       300\n",
      "12      0.260          220   0   0   0   1   0   0   0   0   0       365\n",
      "13      0.336          220   0   0   0   1   0   0   0   0   0       410\n",
      "14      0.144          231   0   0   0   0   1   0   0   0   0       307\n",
      "15      0.268          231   0   0   0   0   1   0   0   0   0       367\n",
      "16      0.349          231   0   0   0   0   1   0   0   0   0       395\n",
      "17      0.100          236   0   0   0   0   0   1   0   0   0       267\n",
      "18      0.248          236   0   0   0   0   0   1   0   0   0       360\n",
      "19      0.317          236   0   0   0   0   0   1   0   0   0       402\n",
      "20      0.028          267   0   0   0   0   0   0   1   0   0       235\n",
      "21      0.064          267   0   0   0   0   0   0   1   0   0       275\n",
      "22      0.161          267   0   0   0   0   0   0   1   0   0       358\n",
      "23      0.278          267   0   0   0   0   0   0   1   0   0       416\n",
      "24      0.050          274   0   0   0   0   0   0   0   1   0       285\n",
      "25      0.176          274   0   0   0   0   0   0   0   1   0       365\n",
      "26      0.321          274   0   0   0   0   0   0   0   1   0       444\n",
      "27      0.140          284   0   0   0   0   0   0   0   0   1       351\n",
      "28      0.232          284   0   0   0   0   0   0   0   0   1       424\n",
      "29      0.085          316   0   0   0   0   0   0   0   0   0       365\n",
      "30      0.147          316   0   0   0   0   0   0   0   0   0       379\n",
      "31      0.180          316   0   0   0   0   0   0   0   0   0       428\n"
     ]
    }
   ],
   "source": [
    "# Importação dos dados\n",
    "df = pd.read_csv('petroleo.csv')\n",
    "print(df)\n"
   ]
  },
  {
   "cell_type": "code",
   "execution_count": 4,
   "metadata": {},
   "outputs": [
    {
     "name": "stdout",
     "output_type": "stream",
     "text": [
      "[[  1.   1.   0.   0.   0.   0.   0.   0.   0.   0. 205.]\n",
      " [  1.   1.   0.   0.   0.   0.   0.   0.   0.   0. 275.]\n",
      " [  1.   1.   0.   0.   0.   0.   0.   0.   0.   0. 345.]\n",
      " [  1.   1.   0.   0.   0.   0.   0.   0.   0.   0. 407.]\n",
      " [  1.   0.   1.   0.   0.   0.   0.   0.   0.   0. 218.]\n",
      " [  1.   0.   1.   0.   0.   0.   0.   0.   0.   0. 273.]\n",
      " [  1.   0.   1.   0.   0.   0.   0.   0.   0.   0. 347.]\n",
      " [  1.   0.   0.   1.   0.   0.   0.   0.   0.   0. 212.]\n",
      " [  1.   0.   0.   1.   0.   0.   0.   0.   0.   0. 272.]\n",
      " [  1.   0.   0.   1.   0.   0.   0.   0.   0.   0. 340.]\n",
      " [  1.   0.   0.   0.   1.   0.   0.   0.   0.   0. 235.]\n",
      " [  1.   0.   0.   0.   1.   0.   0.   0.   0.   0. 300.]\n",
      " [  1.   0.   0.   0.   1.   0.   0.   0.   0.   0. 365.]\n",
      " [  1.   0.   0.   0.   1.   0.   0.   0.   0.   0. 410.]\n",
      " [  1.   0.   0.   0.   0.   1.   0.   0.   0.   0. 307.]\n",
      " [  1.   0.   0.   0.   0.   1.   0.   0.   0.   0. 367.]\n",
      " [  1.   0.   0.   0.   0.   1.   0.   0.   0.   0. 395.]\n",
      " [  1.   0.   0.   0.   0.   0.   1.   0.   0.   0. 267.]\n",
      " [  1.   0.   0.   0.   0.   0.   1.   0.   0.   0. 360.]\n",
      " [  1.   0.   0.   0.   0.   0.   1.   0.   0.   0. 402.]\n",
      " [  1.   0.   0.   0.   0.   0.   0.   1.   0.   0. 235.]\n",
      " [  1.   0.   0.   0.   0.   0.   0.   1.   0.   0. 275.]\n",
      " [  1.   0.   0.   0.   0.   0.   0.   1.   0.   0. 358.]\n",
      " [  1.   0.   0.   0.   0.   0.   0.   1.   0.   0. 416.]\n",
      " [  1.   0.   0.   0.   0.   0.   0.   0.   1.   0. 285.]\n",
      " [  1.   0.   0.   0.   0.   0.   0.   0.   1.   0. 365.]\n",
      " [  1.   0.   0.   0.   0.   0.   0.   0.   1.   0. 444.]\n",
      " [  1.   0.   0.   0.   0.   0.   0.   0.   0.   1. 351.]\n",
      " [  1.   0.   0.   0.   0.   0.   0.   0.   0.   1. 424.]\n",
      " [  1.   0.   0.   0.   0.   0.   0.   0.   0.   0. 365.]\n",
      " [  1.   0.   0.   0.   0.   0.   0.   0.   0.   0. 379.]\n",
      " [  1.   0.   0.   0.   0.   0.   0.   0.   0.   0. 428.]]\n"
     ]
    }
   ],
   "source": [
    "# Construção da matriz X:\n",
    "#X = df['G1', 'G2', 'G3', 'G4', 'G5', 'G6', 'G7', 'G8', 'G9', 'temp_gas']\n",
    "X = df.drop(['conversao', '10 pts ATSM'], 1)\n",
    "X = np.concatenate((np.ones((32,1)), X), axis=1)\n",
    "print(X)\n"
   ]
  },
  {
   "cell_type": "code",
   "execution_count": 5,
   "metadata": {},
   "outputs": [
    {
     "name": "stdout",
     "output_type": "stream",
     "text": [
      "[0.122 0.223 0.347 0.457 0.08  0.131 0.266 0.074 0.182 0.304 0.069 0.152\n",
      " 0.26  0.336 0.144 0.268 0.349 0.1   0.248 0.317 0.028 0.064 0.161 0.278\n",
      " 0.05  0.176 0.321 0.14  0.232 0.085 0.147 0.18 ]\n",
      "[ 16.16905304   5.94726406   2.48354004   1.28236645  30.29119582\n",
      "  14.47565543   4.28221512  33.86647786   8.48087828   3.28562118\n",
      "  37.39578033  11.42610362   4.47376574   2.66353038  12.46385947\n",
      "   4.22075259   2.45240316  21.85434533   4.89204843   3.01330389\n",
      " 125.90200449  41.56154224  10.40391559   3.93004517  58.40397481\n",
      "   8.97421565   2.93519482  13.03590496   5.53488109  27.750426\n",
      "  12.05895702   8.6409187 ]\n"
     ]
    }
   ],
   "source": [
    "y = np.array(df['conversao'])\n",
    "ye = np.log(y)/np.log(1-y)\n",
    "print(y)\n",
    "print(ye)\n"
   ]
  },
  {
   "cell_type": "code",
   "execution_count": 6,
   "metadata": {},
   "outputs": [],
   "source": [
    "# Criação das Funções utilizadas:\n",
    "# gera parâmetros (ue=u*, T, W, c, d) e U(b,f) e K(b,f), dados os valores de beta e gamma do passo atual:\n",
    "def gera_U_K(bf):\n",
    "    b = bf[:-1]\n",
    "    f = bf[-1]\n",
    "    # parâmetros e cálculo de U\n",
    "    nlinhas = np.size(X,0) # 32\n",
    "    ncolunas = np.size(X,1) # 11\n",
    "    u = [float(np.exp(X[i]@b)/(1+np.exp(X[i]@b))) for i in range(nlinhas)]\n",
    "    ue = [float(scisp.digamma(u[i]*f)-scisp.digamma((1-u[i])*f)) for i in range(nlinhas)]\n",
    "    T = [u[i]*(1-u[i]) for i in range(nlinhas)]\n",
    "    T = np.diag(T)\n",
    "    Ub = f*X.T@T@(ye-ue)\n",
    "    Uf = u*(ye-ue)+np.log(1-y)-[float(scisp.digamma((1-u[i])*f)) for i in range(nlinhas)]+scisp.digamma(f)\n",
    "    Uf = Uf.sum()\n",
    "    U = np.concatenate((np.reshape(Ub, (ncolunas,1)), np.reshape(Uf, (1,1))), axis=0)\n",
    "    # parâmetros e cálculo de K\n",
    "    W = [float(f*(scisp.polygamma(1, u[i]*f) + scisp.polygamma(1, (1-u[i])*f))*(u[i]*(1-u[i]))**2) for i in range(nlinhas)]\n",
    "    W = np.diag(W)\n",
    "    c = [float(f*(scisp.polygamma(1, u[i]*f)*u[i] - scisp.polygamma(1, (1-u[i])*f)*(1-u[i]))) for i in range(nlinhas)]\n",
    "    D = [float((scisp.polygamma(1, u[i]*f)*u[i]**2 + scisp.polygamma(1, (1-u[i])*f)*(1-u[i])**2 - scisp.polygamma(1, f))) for i in range(nlinhas)]\n",
    "    D = np.diag(D)\n",
    "    kbb = f*X.T@W@X\n",
    "    kbf = X.T@T@c\n",
    "    kff = np.trace(D)\n",
    "    k1 = np.concatenate((kbb, np.reshape(kbf, (ncolunas,1))), axis=1)\n",
    "    k2 = np.concatenate((np.reshape(kbf, (1,ncolunas)), np.reshape(kff, (1,1))), axis=1)\n",
    "    K = np.concatenate((k1, k2), axis=0)\n",
    "    \n",
    "    return U, K\n"
   ]
  },
  {
   "cell_type": "code",
   "execution_count": 7,
   "metadata": {},
   "outputs": [
    {
     "name": "stdout",
     "output_type": "stream",
     "text": [
      "beta0 = [[1.]\n",
      " [0.]\n",
      " [0.]\n",
      " [0.]\n",
      " [0.]\n",
      " [0.]\n",
      " [0.]\n",
      " [0.]\n",
      " [0.]\n",
      " [0.]\n",
      " [0.]]\n",
      "phi0 = 0.5\n"
     ]
    }
   ],
   "source": [
    "# Chute inicial de beta e gamma:\n",
    "beta0 = np.ones((11,1))*0/11\n",
    "#beta0 = np.reshape(np.linalg.pinv(X)@ye, (np.shape(X)[1],1))\n",
    "beta0[0] = 1\n",
    "phi0 = 1/2\n",
    "print(f'beta0 = {beta0}')\n",
    "print(f'phi0 = {phi0}')\n"
   ]
  },
  {
   "cell_type": "code",
   "execution_count": 128,
   "metadata": {},
   "outputs": [
    {
     "name": "stdout",
     "output_type": "stream",
     "text": [
      "n_iter = 1\n",
      "eps1 = 9750.712546818802\n",
      "eps2 = 3.671083975754012\n",
      "beta_phi = [[ 4.35690701]\n",
      " [-0.61179766]\n",
      " [-0.56177465]\n",
      " [-0.60804353]\n",
      " [-0.36376665]\n",
      " [-0.36801059]\n",
      " [-0.36562311]\n",
      " [ 0.22636744]\n",
      " [ 0.01224121]\n",
      " [-0.15206976]\n",
      " [-0.00508139]\n",
      " [ 1.32002897]]\n",
      "n_iter = 2\n",
      "eps1 = 2309.6781700879174\n",
      "eps2 = 1.7635608175111794\n",
      "beta_phi = [[ 5.03959713e+00]\n",
      " [-5.77917106e-01]\n",
      " [-4.86360686e-01]\n",
      " [-5.33906110e-01]\n",
      " [-3.48073774e-01]\n",
      " [-3.57536693e-01]\n",
      " [-3.49630924e-01]\n",
      " [ 1.54057189e-02]\n",
      " [-4.63556697e-02]\n",
      " [-1.55715164e-01]\n",
      " [-4.20108907e-03]\n",
      " [ 2.92725802e+00]]\n",
      "n_iter = 3\n",
      "eps1 = 537.0545628930898\n",
      "eps2 = 0.5732660163520157\n",
      "beta_phi = [[ 5.24869612e+00]\n",
      " [-5.88323892e-01]\n",
      " [-5.05821108e-01]\n",
      " [-5.52324018e-01]\n",
      " [-3.51981216e-01]\n",
      " [-3.57661347e-01]\n",
      " [-3.52176364e-01]\n",
      " [ 7.32467609e-02]\n",
      " [-3.34692285e-02]\n",
      " [-1.51385819e-01]\n",
      " [-4.42620523e-03]\n",
      " [ 3.45691178e+00]]\n",
      "n_iter = 4\n",
      "eps1 = 539.6142798246417\n",
      "eps2 = 0.0369998879193738\n",
      "beta_phi = [[ 5.26460522e+00]\n",
      " [-5.97407921e-01]\n",
      " [-5.09478473e-01]\n",
      " [-5.57381152e-01]\n",
      " [-3.58074310e-01]\n",
      " [-3.64968203e-01]\n",
      " [-3.58687364e-01]\n",
      " [ 5.37338013e-02]\n",
      " [-3.86969506e-02]\n",
      " [-1.55926935e-01]\n",
      " [-4.43775404e-03]\n",
      " [ 3.47771577e+00]]\n",
      "n_iter = 5\n",
      "eps1 = 538.8750766754273\n",
      "eps2 = 0.004823487742430233\n",
      "beta_phi = [[ 5.26644324e+00]\n",
      " [-5.96974865e-01]\n",
      " [-5.09856944e-01]\n",
      " [-5.57569140e-01]\n",
      " [-3.57676075e-01]\n",
      " [-3.64221543e-01]\n",
      " [-3.58099706e-01]\n",
      " [ 5.78879230e-02]\n",
      " [-3.81476764e-02]\n",
      " [-1.55137292e-01]\n",
      " [-4.44470814e-03]\n",
      " [ 3.47824316e+00]]\n",
      "n_iter = 6\n",
      "eps1 = 539.5592560219224\n",
      "eps2 = 0.001581576160186013\n",
      "beta_phi = [[ 5.26541753e+00]\n",
      " [-5.96904945e-01]\n",
      " [-5.09597239e-01]\n",
      " [-5.57344693e-01]\n",
      " [-3.57665918e-01]\n",
      " [-3.64291131e-01]\n",
      " [-3.58134751e-01]\n",
      " [ 5.67764399e-02]\n",
      " [-3.82524911e-02]\n",
      " [-1.55282175e-01]\n",
      " [-4.44150117e-03]\n",
      " [ 3.47847347e+00]]\n",
      "n_iter = 7\n",
      "eps1 = 539.2269719106495\n",
      "eps2 = 0.000621302826940337\n",
      "beta_phi = [[ 5.26590196e+00]\n",
      " [-5.96980914e-01]\n",
      " [-5.09720999e-01]\n",
      " [-5.57462932e-01]\n",
      " [-3.57702547e-01]\n",
      " [-3.64308281e-01]\n",
      " [-3.58160671e-01]\n",
      " [ 5.71006889e-02]\n",
      " [-3.82235209e-02]\n",
      " [-1.55260396e-01]\n",
      " [-4.44285934e-03]\n",
      " [ 3.47838675e+00]]\n",
      "n_iter = 8\n",
      "eps1 = 539.3613765837716\n",
      "eps2 = 0.0002420240828302529\n",
      "beta_phi = [[ 5.26570374e+00]\n",
      " [-5.96943937e-01]\n",
      " [-5.09670289e-01]\n",
      " [-5.57412874e-01]\n",
      " [-3.57683329e-01]\n",
      " [-3.64294253e-01]\n",
      " [-3.58144071e-01]\n",
      " [ 5.69975804e-02]\n",
      " [-3.82348018e-02]\n",
      " [-1.55262372e-01]\n",
      " [-4.44232397e-03]\n",
      " [ 3.47842189e+00]]\n",
      "n_iter = 9\n",
      "eps1 = 539.3084043458526\n",
      "eps2 = 9.245841550567188e-05\n",
      "beta_phi = [[ 5.26578091e+00]\n",
      " [-5.96959297e-01]\n",
      " [-5.09689997e-01]\n",
      " [-5.57432605e-01]\n",
      " [-3.57691471e-01]\n",
      " [-3.64300874e-01]\n",
      " [-3.58151524e-01]\n",
      " [ 5.70323496e-02]\n",
      " [-3.82300684e-02]\n",
      " [-1.55262791e-01]\n",
      " [-4.44252895e-03]\n",
      " [ 3.47840837e+00]]\n",
      "n_iter = 10\n",
      "eps1 = 539.3284957824221\n",
      "eps2 = 3.483826491951395e-05\n",
      "beta_phi = [[ 5.26575158e+00]\n",
      " [-5.96953294e-01]\n",
      " [-5.09682522e-01]\n",
      " [-5.57425072e-01]\n",
      " [-3.57688271e-01]\n",
      " [-3.64298157e-01]\n",
      " [-3.58148521e-01]\n",
      " [ 5.70201692e-02]\n",
      " [-3.82320191e-02]\n",
      " [-1.55262421e-01]\n",
      " [-4.44245165e-03]\n",
      " [ 3.47841348e+00]]\n",
      "n_iter = 11\n",
      "eps1 = 539.320936752876\n",
      "eps2 = 1.302204337386189e-05\n",
      "beta_phi = [[ 5.26576259e+00]\n",
      " [-5.96955577e-01]\n",
      " [-5.09685324e-01]\n",
      " [-5.57427904e-01]\n",
      " [-3.57689490e-01]\n",
      " [-3.64299213e-01]\n",
      " [-3.58149679e-01]\n",
      " [ 5.70245356e-02]\n",
      " [-3.82312402e-02]\n",
      " [-1.55262598e-01]\n",
      " [-4.44248056e-03]\n",
      " [ 3.47841156e+00]]\n",
      "n_iter = 12\n",
      "eps1 = 539.323755885466\n",
      "eps2 = 4.845700762302277e-06\n",
      "beta_phi = [[ 5.26575848e+00]\n",
      " [-5.96954720e-01]\n",
      " [-5.09684280e-01]\n",
      " [-5.57426847e-01]\n",
      " [-3.57689032e-01]\n",
      " [-3.64298812e-01]\n",
      " [-3.58149242e-01]\n",
      " [ 5.70229491e-02]\n",
      " [-3.82315433e-02]\n",
      " [-1.55262525e-01]\n",
      " [-4.44246980e-03]\n",
      " [ 3.47841228e+00]]\n",
      "n_iter = 13\n",
      "eps1 = 539.3227076492409\n",
      "eps2 = 1.7986514664895121e-06\n",
      "beta_phi = [[ 5.26576001e+00]\n",
      " [-5.96955040e-01]\n",
      " [-5.09684668e-01]\n",
      " [-5.57427240e-01]\n",
      " [-3.57689203e-01]\n",
      " [-3.64298962e-01]\n",
      " [-3.58149405e-01]\n",
      " [ 5.70235300e-02]\n",
      " [-3.82314275e-02]\n",
      " [-1.55262553e-01]\n",
      " [-4.44247380e-03]\n",
      " [ 3.47841201e+00]]\n",
      "n_iter = 14\n",
      "eps1 = 539.3230965091939\n",
      "eps2 = 6.667019531769561e-07\n",
      "beta_phi = [[ 5.26575944e+00]\n",
      " [-5.96954921e-01]\n",
      " [-5.09684524e-01]\n",
      " [-5.57427095e-01]\n",
      " [-3.57689139e-01]\n",
      " [-3.64298906e-01]\n",
      " [-3.58149344e-01]\n",
      " [ 5.70233164e-02]\n",
      " [-3.82314712e-02]\n",
      " [-1.55262543e-01]\n",
      " [-4.44247231e-03]\n",
      " [ 3.47841211e+00]]\n"
     ]
    }
   ],
   "source": [
    "# Processo iterativo:\n",
    "beta_phi = np.concatenate((beta0, np.reshape(phi0, (1,1))), axis=0)\n",
    "n_iter = 0\n",
    "eps1 = 1\n",
    "eps2 = 1\n",
    "U = 0\n",
    "rp = 0.127 # redutor de passo: devido a problemas de convergência e imprecisão numérica, este redutor ajudou no processo iterativo\n",
    "while (eps1 >= 0.01) and (eps2 >= 0.000001) and (n_iter <= 100):\n",
    "    new_U, K = gera_U_K(beta_phi)\n",
    "    new_beta_phi = beta_phi + np.linalg.inv(K)@(new_U-U)*rp # utilização de redutor de passo\n",
    "    eps1 = np.linalg.norm(new_U)\n",
    "    eps2 = np.linalg.norm(new_beta_phi-beta_phi)\n",
    "    n_iter += 1\n",
    "    beta_phi = new_beta_phi\n",
    "    U = new_U\n",
    "    print(f'n_iter = {n_iter}')\n",
    "    print(f'eps1 = {eps1}')\n",
    "    print(f'eps2 = {eps2}')\n",
    "    #print(f'U = {U}')\n",
    "    #print(f'K = {K}')\n",
    "    print(f'beta_phi = {beta_phi}')\n"
   ]
  },
  {
   "cell_type": "code",
   "execution_count": 129,
   "metadata": {},
   "outputs": [],
   "source": [
    "beta_phi_total = beta_phi"
   ]
  },
  {
   "cell_type": "code",
   "execution_count": null,
   "metadata": {},
   "outputs": [],
   "source": []
  },
  {
   "cell_type": "markdown",
   "metadata": {},
   "source": [
    "## Questão 3.2"
   ]
  },
  {
   "cell_type": "code",
   "execution_count": 130,
   "metadata": {},
   "outputs": [
    {
     "data": {
      "text/html": [
       "<div>\n",
       "<style scoped>\n",
       "    .dataframe tbody tr th:only-of-type {\n",
       "        vertical-align: middle;\n",
       "    }\n",
       "\n",
       "    .dataframe tbody tr th {\n",
       "        vertical-align: top;\n",
       "    }\n",
       "\n",
       "    .dataframe thead th {\n",
       "        text-align: right;\n",
       "    }\n",
       "</style>\n",
       "<table border=\"1\" class=\"dataframe\">\n",
       "  <thead>\n",
       "    <tr style=\"text-align: right;\">\n",
       "      <th></th>\n",
       "      <th>Beta</th>\n",
       "      <th>std_error</th>\n",
       "      <th>t_stat</th>\n",
       "    </tr>\n",
       "  </thead>\n",
       "  <tbody>\n",
       "    <tr>\n",
       "      <th>0</th>\n",
       "      <td>5.265759</td>\n",
       "      <td>1.447409</td>\n",
       "      <td>3.638060</td>\n",
       "    </tr>\n",
       "    <tr>\n",
       "      <th>1</th>\n",
       "      <td>-0.596955</td>\n",
       "      <td>0.822421</td>\n",
       "      <td>-0.725851</td>\n",
       "    </tr>\n",
       "    <tr>\n",
       "      <th>2</th>\n",
       "      <td>-0.509685</td>\n",
       "      <td>0.902727</td>\n",
       "      <td>-0.564605</td>\n",
       "    </tr>\n",
       "    <tr>\n",
       "      <th>3</th>\n",
       "      <td>-0.557427</td>\n",
       "      <td>0.908567</td>\n",
       "      <td>-0.613524</td>\n",
       "    </tr>\n",
       "    <tr>\n",
       "      <th>4</th>\n",
       "      <td>-0.357689</td>\n",
       "      <td>0.804466</td>\n",
       "      <td>-0.444629</td>\n",
       "    </tr>\n",
       "    <tr>\n",
       "      <th>5</th>\n",
       "      <td>-0.364299</td>\n",
       "      <td>0.841258</td>\n",
       "      <td>-0.433041</td>\n",
       "    </tr>\n",
       "    <tr>\n",
       "      <th>6</th>\n",
       "      <td>-0.358149</td>\n",
       "      <td>0.847280</td>\n",
       "      <td>-0.422705</td>\n",
       "    </tr>\n",
       "    <tr>\n",
       "      <th>7</th>\n",
       "      <td>0.057023</td>\n",
       "      <td>0.807818</td>\n",
       "      <td>0.070589</td>\n",
       "    </tr>\n",
       "    <tr>\n",
       "      <th>8</th>\n",
       "      <td>-0.038231</td>\n",
       "      <td>0.836813</td>\n",
       "      <td>-0.045687</td>\n",
       "    </tr>\n",
       "    <tr>\n",
       "      <th>9</th>\n",
       "      <td>-0.155263</td>\n",
       "      <td>0.932579</td>\n",
       "      <td>-0.166487</td>\n",
       "    </tr>\n",
       "    <tr>\n",
       "      <th>10</th>\n",
       "      <td>-0.004442</td>\n",
       "      <td>0.003112</td>\n",
       "      <td>-1.427438</td>\n",
       "    </tr>\n",
       "  </tbody>\n",
       "</table>\n",
       "</div>"
      ],
      "text/plain": [
       "        Beta  std_error    t_stat\n",
       "0   5.265759   1.447409  3.638060\n",
       "1  -0.596955   0.822421 -0.725851\n",
       "2  -0.509685   0.902727 -0.564605\n",
       "3  -0.557427   0.908567 -0.613524\n",
       "4  -0.357689   0.804466 -0.444629\n",
       "5  -0.364299   0.841258 -0.433041\n",
       "6  -0.358149   0.847280 -0.422705\n",
       "7   0.057023   0.807818  0.070589\n",
       "8  -0.038231   0.836813 -0.045687\n",
       "9  -0.155263   0.932579 -0.166487\n",
       "10 -0.004442   0.003112 -1.427438"
      ]
     },
     "execution_count": 130,
     "metadata": {},
     "output_type": "execute_result"
    }
   ],
   "source": [
    "#print(beta_phi[:-1])\n",
    "beta_est = beta_phi[:-1] # eliminando phi da coluna de estatísticas\n",
    "# Pelo resultado do item 2.1.5, a convergência das variâncias se dá para os valores da diagonal da inversa da matriz K\n",
    "# Deste modo, os erros-padrão são dados abaixo:\n",
    "std = np.reshape(np.diag(np.linalg.inv(K))[:-1]**0.5, (len(beta_est),1))\n",
    "#print(std)\n",
    "pd.DataFrame(np.concatenate((beta_est, std, beta_est/std), axis=1), columns = ['Beta', 'std_error', 't_stat'])\n"
   ]
  },
  {
   "cell_type": "code",
   "execution_count": null,
   "metadata": {},
   "outputs": [],
   "source": []
  },
  {
   "cell_type": "markdown",
   "metadata": {},
   "source": [
    "## Questão 3.3"
   ]
  },
  {
   "cell_type": "code",
   "execution_count": 131,
   "metadata": {},
   "outputs": [
    {
     "name": "stdout",
     "output_type": "stream",
     "text": [
      "       lower  beta_mean     upper\n",
      "0   2.877446   5.328507  7.803811\n",
      "1  -2.004212  -0.633636  0.737655\n",
      "2  -2.101549  -0.536753  0.888535\n",
      "3  -2.000224  -0.542910  0.953405\n",
      "4  -1.717498  -0.331935  0.984960\n",
      "5  -1.702675  -0.326273  1.015148\n",
      "6  -1.802611  -0.363500  1.020178\n",
      "7  -1.347509   0.070366  1.498166\n",
      "8  -1.442839  -0.065252  1.372727\n",
      "9  -1.585877  -0.094675  1.419914\n",
      "10 -0.009610  -0.004404  0.000876\n"
     ]
    }
   ],
   "source": [
    "boot = np.random.normal(loc=beta_est, scale=std, size=(11,1000))\n",
    "#print(np.mean(boot, axis=1))\n",
    "#print(np.sort(boot)[:,949])\n",
    "#print(np.mean(boot, axis=1).shape)\n",
    "conf_int = pd.DataFrame(np.reshape(np.concatenate((np.sort(boot)[:,49], np.mean(boot, axis=1), np.sort(boot)[:,949]), axis=0), (len(beta_est),3), order='F'), columns = ['lower', 'beta_mean', 'upper'])\n",
    "print(conf_int)\n"
   ]
  },
  {
   "cell_type": "code",
   "execution_count": null,
   "metadata": {},
   "outputs": [],
   "source": []
  },
  {
   "cell_type": "markdown",
   "metadata": {},
   "source": [
    "## Questão 3.4"
   ]
  },
  {
   "cell_type": "code",
   "execution_count": 132,
   "metadata": {},
   "outputs": [],
   "source": [
    "# Se todos os valores de beta (2 a 11) são 0, e beta1 = 1, a otimização se dá apenas em relação a phi\n",
    "# Assim, podemos adaptar as funções para a otimização anterior:\n",
    "# gera parâmetros restrito:\n",
    "def gera_U_K_restrito(bf):\n",
    "    b = bf[:-1]\n",
    "    f = bf[-1]\n",
    "    # parâmetros e cálculo de U\n",
    "    nlinhas = np.size(X,0) # 32\n",
    "    ncolunas = np.size(X,1) # 11\n",
    "    u = [float(np.exp(X[i]@b)/(1+np.exp(X[i]@b))) for i in range(nlinhas)]\n",
    "    ue = [float(scisp.digamma(u[i]*f)-scisp.digamma((1-u[i])*f)) for i in range(nlinhas)]\n",
    "    T = [u[i]*(1-u[i]) for i in range(nlinhas)]\n",
    "    T = np.diag(T)\n",
    "    #Ub = f*X.T@T@(ye-ue)\n",
    "    Uf = u*(ye-ue)+np.log(1-y)-[float(scisp.digamma((1-u[i])*f)) for i in range(nlinhas)]+scisp.digamma(f)\n",
    "    Uf = Uf.sum()\n",
    "    #U = np.concatenate((np.reshape(Ub, (ncolunas,1)), np.reshape(Uf, (1,1))), axis=0)\n",
    "    # parâmetros e cálculo de K\n",
    "    #W = [float(f*(scisp.polygamma(1, u[i]*f) + scisp.polygamma(1, (1-u[i])*f))*(u[i]*(1-u[i]))**2) for i in range(nlinhas)]\n",
    "    #W = np.diag(W)\n",
    "    #c = [float(f*(scisp.polygamma(1, u[i]*f)*u[i] - scisp.polygamma(1, (1-u[i])*f)*(1-u[i]))) for i in range(nlinhas)]\n",
    "    D = [float((scisp.polygamma(1, u[i]*f)*u[i]**2 + scisp.polygamma(1, (1-u[i])*f)*(1-u[i])**2 - scisp.polygamma(1, f))) for i in range(nlinhas)]\n",
    "    D = np.diag(D)\n",
    "    #kbb = f*X.T@W@X\n",
    "    #kbf = X.T@T@c\n",
    "    kff = np.trace(D)\n",
    "    #k1 = np.concatenate((kbb, np.reshape(kbf, (ncolunas,1))), axis=1)\n",
    "    #k2 = np.concatenate((np.reshape(kbf, (1,ncolunas)), np.reshape(kff, (1,1))), axis=1)\n",
    "    #K = np.concatenate((k1, k2), axis=0)\n",
    "    \n",
    "    return Uf, kff\n"
   ]
  },
  {
   "cell_type": "code",
   "execution_count": 133,
   "metadata": {},
   "outputs": [
    {
     "name": "stdout",
     "output_type": "stream",
     "text": [
      "n_iter = 1\n",
      "eps1 = 461.4784047648192\n",
      "eps2 = 0.0\n",
      "beta_phi = [[1.        ]\n",
      " [0.        ]\n",
      " [0.        ]\n",
      " [0.        ]\n",
      " [0.        ]\n",
      " [0.        ]\n",
      " [0.        ]\n",
      " [0.        ]\n",
      " [0.        ]\n",
      " [0.        ]\n",
      " [0.        ]\n",
      " [0.99085486]]\n"
     ]
    }
   ],
   "source": [
    "beta_phi = np.concatenate((beta0, np.reshape(phi0, (1,1))), axis=0)\n",
    "n_iter = 0\n",
    "eps1 = 1\n",
    "eps2 = 1\n",
    "U = 0\n",
    "rp = 0.127 # redutor de passo: devido a problemas de convergência e imprecisão numérica, este redutor ajudou no processo iterativo\n",
    "while (eps1 >= 0.01) and (eps2 >= 0.000001) and (n_iter <= 100):\n",
    "    new_U, K = gera_U_K_restrito(beta_phi)\n",
    "    new_beta_phi = beta_phi\n",
    "    new_beta_phi[11] = beta_phi[11] + (1/K)*(new_U-U)*rp # utilização de redutor de passo\n",
    "    eps1 = abs(new_U)\n",
    "    eps2 = np.linalg.norm(new_beta_phi-beta_phi)\n",
    "    n_iter += 1\n",
    "    beta_phi = new_beta_phi\n",
    "    U = new_U\n",
    "    print(f'n_iter = {n_iter}')\n",
    "    print(f'eps1 = {eps1}')\n",
    "    print(f'eps2 = {eps2}')\n",
    "    #print(f'U = {U}')\n",
    "    #print(f'K = {K}')\n",
    "    print(f'beta_phi = {beta_phi}')\n"
   ]
  },
  {
   "cell_type": "code",
   "execution_count": 139,
   "metadata": {},
   "outputs": [],
   "source": [
    "beta_phi_restrito = beta_phi\n",
    "phi_restrito = beta_phi_restrito[11]\n",
    "phi_total = beta_phi_total[11]\n",
    "u_total = [float(np.exp(X[i]@beta_phi_total[:-1])/(1+np.exp(X[i]@beta_phi_total[:-1]))) for i in range(11)]\n",
    "u_restrito = [float(np.exp(X[i]@beta_phi_restrito[:-1])/(1+np.exp(X[i]@beta_phi_restrito[:-1]))) for i in range(11)]\n"
   ]
  },
  {
   "cell_type": "code",
   "execution_count": 146,
   "metadata": {},
   "outputs": [
    {
     "name": "stdout",
     "output_type": "stream",
     "text": [
      "new_w1 = 10.800236614068123\n",
      "new_w3 = 7.465783477319549\n",
      "Desvio = 0.09151641453512435\n",
      "var = [3.65778428]\n",
      "Hipótese rejeitada\n"
     ]
    }
   ],
   "source": [
    "# pelo item anterior, encontramos o novo valor dos parâmetros beta_phi otimizados apenas em phi\n",
    "# Calculamos então a Máxima Verossimilhança\n",
    "l_total = np.array([np.log(scisp.gamma(phi_total)) - np.log(scisp.gamma(phi_total*u_total[i])) - np.log(scisp.gamma(phi_total*(1-u_total[i]))) + (u_total[i]*phi_total-1)*np.log(y[i]) + ((1-u_total[i])*phi_total-1)*np.log(1-y[i])  for i in range(11)]).sum()\n",
    "l_restrito = np.array([np.log(scisp.gamma(phi_restrito)) - np.log(scisp.gamma(phi_restrito*u_restrito[i])) - np.log(scisp.gamma(phi_restrito*(1-u_restrito[i]))) + (u_restrito[i]*phi_restrito-1)*np.log(y[i]) + ((1-u_restrito[i])*phi_restrito-1)*np.log(1-y[i])  for i in range(11)]).sum()\n",
    "w1 = -2*(l_total - l_restrito)\n",
    "new_w1 = w1**0.5\n",
    "print(f'new_w1 = {new_w1}')\n",
    "\n",
    "# O intervalo de confiança se dá então como uma chi-quadrado em torno do valor centrado em 1\n",
    "# Como se trata de apenas uma variável, tomando a raíz, podemos tomar o intervalo em torno de uma normal\n",
    "# O valor inverso da função acumulada normal para 95% de confiança sendo dado por 1.96 desvios em relação a 0\n",
    "\n",
    "# A estatística de LM, como mostrado no item 2.1.3, uma vez que a restrição só recai sobre phi (unidimensional), fica:\n",
    "w3 = U**2/K/32 # possui distribuição chi-quadrado\n",
    "\n",
    "# De modo similar ao anterior, podemos tomar uma nova estatística (raíz), com os valores do intervalo de confiança sendo dados também por 1.96 desvios em relação a 0\n",
    "new_w3 = U/(K*32)**0.5\n",
    "print(f'new_w3 = {new_w3}')\n",
    "\n",
    "# O desvio-padrão dos modelos restritos é dada por:\n",
    "print(f'Desvio = {1/K**0.5}')\n",
    "\n",
    "# O limite máxio superior (95%) é dado por:\n",
    "print(f'var = {phi_total + 1.96/K**0.5}')\n",
    "\n",
    "# Percebemos assim, que os valores das estatíticas não estão condizentes com a hipótese inicial e devem ser rejeitadas\n",
    "print('Hipótese rejeitada')"
   ]
  },
  {
   "cell_type": "markdown",
   "metadata": {},
   "source": [
    "## Questão 3.5"
   ]
  },
  {
   "cell_type": "code",
   "execution_count": null,
   "metadata": {},
   "outputs": [],
   "source": [
    "# (tempo...)"
   ]
  },
  {
   "cell_type": "code",
   "execution_count": 72,
   "metadata": {},
   "outputs": [],
   "source": [
    "# Código fornecido em aula e adaptado\n",
    "# Create one bootstrap subsample from X size n\n",
    "def bootstrap_resample(X,n=None):\n",
    "    # X - original dataset list of nparrays of a nparray\n",
    "    # n - size of bootstrap sample, n=len(X) if none\n",
    "    if type(X) == list:\n",
    "        T = []\n",
    "        for Z in X:\n",
    "            if n == None:\n",
    "                n = Z.shape[0]\n",
    "            i = np.random.randint(0,len(Z),n)\n",
    "            T.append(Z[i])\n",
    "        return T\n",
    "    if n == None:\n",
    "        n = X.shape[0]\n",
    "    i = np.random.randint(0,len(X),n)\n",
    "    return X[i]\n",
    "\n",
    "# calculate boostrap distribution of some arbitraty function of the sample\n",
    "def bootstrap_stat(X,Z,fcn,n=None):\n",
    "    # X - original dataset\n",
    "    # Z - vector to store bootstrap samples kxm\n",
    "    # fcn - statistics \n",
    "    # n - size of bootstrap sample, n=len(X) if None  \n",
    "    k = len(fcn)\n",
    "    m = Z.shape[1]\n",
    "    for i in range(0,m):\n",
    "        s = bootstrap_resample(X,n)\n",
    "        for j in range(0,k):\n",
    "            Z[j,i] = fcn[j](s)\n",
    "            "
   ]
  },
  {
   "cell_type": "code",
   "execution_count": 76,
   "metadata": {},
   "outputs": [
    {
     "name": "stdout",
     "output_type": "stream",
     "text": [
      "Estatística t = 1.746\n"
     ]
    },
    {
     "data": {
      "text/plain": [
       "Text(0.5, 1.0, 'Bootstrap dist. of t')"
      ]
     },
     "execution_count": 76,
     "metadata": {},
     "output_type": "execute_result"
    },
    {
     "data": {
      "image/png": "[encoded data removed]",
      "text/plain": [
       "<Figure size 1008x720 with 1 Axes>"
      ]
     },
     "metadata": {
      "needs_background": "light"
     },
     "output_type": "display_data"
    }
   ],
   "source": [
    "# Código fornecido em aula e adaptado\n",
    "Y = beta_est\n",
    "# calcula estatística t baseada em duas amostras\n",
    "def two_sample_t(Z):\n",
    "    X = Z[0]\n",
    "    Y = Z[1]\n",
    "    d = X.mean()-Y.mean()\n",
    "    s = X.var()/len(X) + Y.var()/len(Y)\n",
    "    return d/np.sqrt(s)\n",
    "\n",
    "print('Estatística t = {:.3f}'.format(two_sample_t([X,Y])))\n",
    "\n",
    "m = 1000\n",
    "T = np.zeros([1,m])\n",
    "bootstrap_stat([X,Y], T, [two_sample_t])\n",
    "\n",
    "plt.figure(figsize=(14,10))\n",
    "sns.distplot(T[0],bins='fd', fit=stats.t)\n",
    "plt.title(u'Bootstrap dist. of t', fontsize=20)"
   ]
  },
  {
   "cell_type": "code",
   "execution_count": 77,
   "metadata": {},
   "outputs": [
    {
     "name": "stdout",
     "output_type": "stream",
     "text": [
      "Treatment X -- Mean = 30.364\t s.e. = 97.636\n",
      "Treatment Y -- Mean = 0.216\t s.e. = 1.611\n"
     ]
    },
    {
     "data": {
      "text/plain": [
       "Text(0.5, 1.0, 'Bootstrap dist. of std of Y')"
      ]
     },
     "execution_count": 77,
     "metadata": {},
     "output_type": "execute_result"
    },
    {
     "data": {
      "image/png": "[encoded data removed]",
      "text/plain": [
       "<Figure size 1008x720 with 4 Axes>"
      ]
     },
     "metadata": {
      "needs_background": "light"
     },
     "output_type": "display_data"
    }
   ],
   "source": [
    "# Código fornecido em aula e adaptado\n",
    "# Cálculo das estatísticas\n",
    "print(\"Treatment X -- Mean = {0:.3f}\\t s.e. = {1:.3f}\".format(X.mean(),X.std()))\n",
    "print(\"Treatment Y -- Mean = {0:.3f}\\t s.e. = {1:.3f}\".format(Y.mean(),Y.std()))\n",
    "\n",
    "# bootstrap sample\n",
    "stats_list = [np.mean, np.std]\n",
    "m = 1000\n",
    "Zx = np.zeros([len(stats_list),m])\n",
    "Zy = np.zeros([len(stats_list),m])\n",
    "\n",
    "bootstrap_stat(X, Zx, stats_list)\n",
    "bootstrap_stat(Y, Zy, stats_list)\n",
    "\n",
    "fig, ax = plt.subplots(2, 2, figsize=(14,10))\n",
    "sns.distplot(Zx[0],bins='fd', fit=stats.norm,ax=ax[0,0])\n",
    "ax[0,0].set_title(u'Bootstrap dist. of mean of X', fontsize=18)\n",
    "sns.distplot(Zx[1],bins='fd', fit=stats.norm, ax=ax[0,1])\n",
    "ax[0,1].set_title(u'Bootstrap dist. of std of X', fontsize=18)\n",
    "sns.distplot(Zy[0],bins='fd', fit=stats.norm, ax=ax[1,0])\n",
    "ax[1,0].set_title(u'Bootstrap dist. of mean of Y', fontsize=18)\n",
    "sns.distplot(Zy[1],bins='fd', fit=stats.norm, ax=ax[1,1])\n",
    "ax[1,1].set_title(u'Bootstrap dist. of std of Y', fontsize=18)"
   ]
  }
 ],
 "metadata": {
  "kernelspec": {
   "display_name": "Python 3",
   "language": "python",
   "name": "python3"
  },
  "language_info": {
   "codemirror_mode": {
    "name": "ipython",
    "version": 3
   },
   "file_extension": ".py",
   "mimetype": "text/x-python",
   "name": "python",
   "nbconvert_exporter": "python",
   "pygments_lexer": "ipython3",
   "version": "3.7.6"
  }
 },
 "nbformat": 4,
 "nbformat_minor": 4
}
